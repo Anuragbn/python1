{
  "nbformat": 4,
  "nbformat_minor": 0,
  "metadata": {
    "colab": {
      "name": "Collections.OrderedDict().ipynb",
      "provenance": [],
      "include_colab_link": true
    },
    "kernelspec": {
      "name": "python2",
      "display_name": "Python 2"
    }
  },
  "cells": [
    {
      "cell_type": "markdown",
      "metadata": {
        "id": "view-in-github",
        "colab_type": "text"
      },
      "source": [
        "<a href=\"https://colab.research.google.com/github/Anuragbn/python1/blob/master/Collections_OrderedDict().ipynb\" target=\"_parent\"><img src=\"https://colab.research.google.com/assets/colab-badge.svg\" alt=\"Open In Colab\"/></a>"
      ]
    },
    {
      "cell_type": "code",
      "metadata": {
        "id": "4x0WTcMl3bzH",
        "colab_type": "code",
        "colab": {
          "base_uri": "https://localhost:8080/",
          "height": 255
        },
        "outputId": "19e23a3c-295f-4981-9307-3cd11a405c4e"
      },
      "source": [
        "from collections import OrderedDict\n",
        "x=OrderedDict()\n",
        "n=int(raw_input())\n",
        "for i in range(n):\n",
        "    k,v=raw_input().rsplit(' ',1)\n",
        "    if k in x.keys():\n",
        "        a=str(int(x[k])+int(v))\n",
        "        x.update({k:a})    \n",
        "    else:\n",
        "        x.update({k:v})\n",
        "\n",
        "for k,v in x.items():\n",
        "    print k,v"
      ],
      "execution_count": 2,
      "outputs": [
        {
          "output_type": "stream",
          "text": [
            "9\n",
            "BANANA FRIES 12\n",
            "POTATO CHIPS 30\n",
            "APPLE JUICE 10\n",
            "CANDY 5\n",
            "APPLE JUICE 10\n",
            "CANDY 5\n",
            "CANDY 5\n",
            "CANDY 5\n",
            "POTATO CHIPS 30\n",
            "BANANA FRIES 12\n",
            "POTATO CHIPS 60\n",
            "APPLE JUICE 20\n",
            "CANDY 20\n"
          ],
          "name": "stdout"
        }
      ]
    }
  ]
}