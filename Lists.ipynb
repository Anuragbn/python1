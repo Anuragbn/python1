{
  "nbformat": 4,
  "nbformat_minor": 0,
  "metadata": {
    "colab": {
      "name": "Lists.ipynb",
      "version": "0.3.2",
      "provenance": [],
      "include_colab_link": true
    },
    "kernelspec": {
      "name": "python2",
      "display_name": "Python 2"
    }
  },
  "cells": [
    {
      "cell_type": "markdown",
      "metadata": {
        "id": "view-in-github",
        "colab_type": "text"
      },
      "source": [
        "<a href=\"https://colab.research.google.com/github/Anuragbn/python1/blob/master/Lists.ipynb\" target=\"_parent\"><img src=\"https://colab.research.google.com/assets/colab-badge.svg\" alt=\"Open In Colab\"/></a>"
      ]
    },
    {
      "cell_type": "code",
      "metadata": {
        "id": "TX3w_2FQJYqN",
        "colab_type": "code",
        "outputId": "4f1d249d-3eeb-437a-e292-26afcb2a9b06",
        "colab": {
          "base_uri": "https://localhost:8080/",
          "height": 289
        }
      },
      "source": [
        "if __name__ == '__main__':\n",
        "    N = int(raw_input())\n",
        "l = []\n",
        "for n in range(N):\n",
        "    x = raw_input().split(\" \")\n",
        "    a = x[0]\n",
        "    if a == 'append':\n",
        "        l.append(int(x[1]))\n",
        "    if a == 'print':\n",
        "        print l\n",
        "    if a == 'insert':\n",
        "        l.insert(int(x[1]), int(x[2]))\n",
        "    if a == 'reverse':\n",
        "        l.reverse()\n",
        "    if a == 'pop':\n",
        "        l.pop()\n",
        "    if a == 'sort':\n",
        "        l.sort()\n",
        "    if a == 'remove':\n",
        "        l.remove(int(x[1]))"
      ],
      "execution_count": 0,
      "outputs": [
        {
          "output_type": "stream",
          "text": [
            "12\n",
            "insert 0 5\n",
            "insert 1 10\n",
            "insert 0 6\n",
            "print\n",
            "[6, 5, 10]\n",
            "remove 6\n",
            "append 9\n",
            "append 1\n",
            "sort\n",
            "print\n",
            "[1, 5, 9, 10]\n",
            "pop\n",
            "reverse\n",
            "print\n",
            "[9, 5, 1]\n"
          ],
          "name": "stdout"
        }
      ]
    }
  ]
}