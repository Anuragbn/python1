{
  "nbformat": 4,
  "nbformat_minor": 0,
  "metadata": {
    "colab": {
      "name": "Nested Lists.ipynb",
      "version": "0.3.2",
      "provenance": [],
      "include_colab_link": true
    },
    "kernelspec": {
      "name": "python2",
      "display_name": "Python 2"
    }
  },
  "cells": [
    {
      "cell_type": "markdown",
      "metadata": {
        "id": "view-in-github",
        "colab_type": "text"
      },
      "source": [
        "<a href=\"https://colab.research.google.com/github/Anuragbn/python1/blob/master/Nested_Lists.ipynb\" target=\"_parent\"><img src=\"https://colab.research.google.com/assets/colab-badge.svg\" alt=\"Open In Colab\"/></a>"
      ]
    },
    {
      "cell_type": "code",
      "metadata": {
        "id": "dTCgR2GNFR3O",
        "colab_type": "code",
        "outputId": "8ec1d0ac-c5f7-46a5-e131-4804b15d3c71",
        "colab": {
          "base_uri": "https://localhost:8080/",
          "height": 238
        }
      },
      "source": [
        "n=[]\n",
        "s=[]\n",
        "N = 0\n",
        "for _ in range(int(raw_input())):\n",
        "    name = raw_input()\n",
        "    score = float(raw_input())\n",
        "\n",
        "    n.append(name)\n",
        "    s.append(score)\n",
        "\n",
        "    N=N+1\n",
        "s1=[]\n",
        "for i in range(0,N):\n",
        "    s1.append(s[i])\n",
        "l1=s[0]\n",
        "\n",
        "for i in range(N):\n",
        "    if l1 > s[i]:\n",
        "        l1=s[i]\n",
        "s.sort()\n",
        "\n",
        "l2=s[0]\n",
        "for i in range(0,N):\n",
        "    if(s[i-1]==l1):\n",
        "        l2=s[i]\n",
        "\n",
        "f=[]\n",
        "for i in range(0,N):\n",
        "    if l2 == s1[i]:\n",
        "        f.append(n[i])\n",
        "\n",
        "f.sort()\n",
        "\n",
        "for i in f:\n",
        "    print i\n"
      ],
      "execution_count": 0,
      "outputs": [
        {
          "output_type": "stream",
          "text": [
            "5\n",
            "Harry\n",
            "37.21\n",
            "Berry\n",
            "37.21\n",
            "Tina\n",
            "37.2\n",
            "Akriti\n",
            "41\n",
            "Harsh\n",
            "39\n",
            "Berry\n",
            "Harry\n"
          ],
          "name": "stdout"
        }
      ]
    }
  ]
}