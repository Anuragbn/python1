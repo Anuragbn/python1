{
  "nbformat": 4,
  "nbformat_minor": 0,
  "metadata": {
    "colab": {
      "name": "Find a string.ipynb",
      "provenance": [],
      "include_colab_link": true
    },
    "kernelspec": {
      "name": "python2",
      "display_name": "Python 2"
    }
  },
  "cells": [
    {
      "cell_type": "markdown",
      "metadata": {
        "id": "view-in-github",
        "colab_type": "text"
      },
      "source": [
        "<a href=\"https://colab.research.google.com/github/Anuragbn/python1/blob/master/Find_a_string.ipynb\" target=\"_parent\"><img src=\"https://colab.research.google.com/assets/colab-badge.svg\" alt=\"Open In Colab\"/></a>"
      ]
    },
    {
      "cell_type": "code",
      "metadata": {
        "id": "xoGGYqyS599N",
        "colab_type": "code",
        "colab": {
          "base_uri": "https://localhost:8080/",
          "height": 68
        },
        "outputId": "a386e3d5-ee2f-4a7b-df26-74782dafbef5"
      },
      "source": [
        "def count_substring(string, sub_string):\n",
        "    c=0\n",
        "    n=len(string)\n",
        "    m=len(sub_string)\n",
        "    for i in range(n-m+1):\n",
        "        k=0\n",
        "        for j in range(i,m+i):\n",
        "            try:\n",
        "                if string[j] != sub_string[k]:\n",
        "                    break;\n",
        "            except:\n",
        "                pass\n",
        "            c+=1\n",
        "            k+=1    \n",
        "    c/=m    \n",
        "    return c\n",
        "\n",
        "if __name__ == '__main__':\n",
        "    string = raw_input().strip()\n",
        "    sub_string = raw_input().strip()\n",
        "    \n",
        "    count = count_substring(string, sub_string)\n",
        "    print count"
      ],
      "execution_count": 1,
      "outputs": [
        {
          "output_type": "stream",
          "text": [
            "ABCDCDC\n",
            "CDC\n",
            "2\n"
          ],
          "name": "stdout"
        }
      ]
    }
  ]
}