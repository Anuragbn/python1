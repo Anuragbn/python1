{
  "nbformat": 4,
  "nbformat_minor": 0,
  "metadata": {
    "colab": {
      "name": "Find the Runner-Up Score!.ipynb",
      "version": "0.3.2",
      "provenance": [],
      "include_colab_link": true
    },
    "kernelspec": {
      "name": "python2",
      "display_name": "Python 2"
    }
  },
  "cells": [
    {
      "cell_type": "markdown",
      "metadata": {
        "id": "view-in-github",
        "colab_type": "text"
      },
      "source": [
        "<a href=\"https://colab.research.google.com/github/Anuragbn/python1/blob/master/Find_the_Runner_Up_Score!.ipynb\" target=\"_parent\"><img src=\"https://colab.research.google.com/assets/colab-badge.svg\" alt=\"Open In Colab\"/></a>"
      ]
    },
    {
      "cell_type": "code",
      "metadata": {
        "id": "dVBpbpphRyvW",
        "colab_type": "code",
        "colab": {
          "base_uri": "https://localhost:8080/",
          "height": 68
        },
        "outputId": "6d927116-b387-4ee1-ce5f-8e8361ee83b9"
      },
      "source": [
        "if __name__ == '__main__':\n",
        "    n = int(raw_input())\n",
        "    arr = map(int, raw_input().split())\n",
        "\n",
        "f=arr[0]\n",
        "\n",
        "for i in range(0,n):\n",
        "    if f<arr[i]:\n",
        "        f=arr[i]\n",
        "\n",
        "arr.sort()\n",
        "for i in range(0,n):\n",
        "    if(f!=arr[i]):\n",
        "        s=arr[i]\n",
        "\n",
        "print s\n"
      ],
      "execution_count": 1,
      "outputs": [
        {
          "output_type": "stream",
          "text": [
            "5\n",
            "5 4 3 2 1 \n",
            "4\n"
          ],
          "name": "stdout"
        }
      ]
    }
  ]
}