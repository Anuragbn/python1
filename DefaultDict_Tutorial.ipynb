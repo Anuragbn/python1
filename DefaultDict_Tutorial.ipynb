{
  "nbformat": 4,
  "nbformat_minor": 0,
  "metadata": {
    "colab": {
      "name": "DefaultDict Tutorial.ipynb",
      "provenance": [],
      "include_colab_link": true
    },
    "kernelspec": {
      "name": "python2",
      "display_name": "Python 2"
    }
  },
  "cells": [
    {
      "cell_type": "markdown",
      "metadata": {
        "id": "view-in-github",
        "colab_type": "text"
      },
      "source": [
        "<a href=\"https://colab.research.google.com/github/Anuragbn/python1/blob/master/DefaultDict_Tutorial.ipynb\" target=\"_parent\"><img src=\"https://colab.research.google.com/assets/colab-badge.svg\" alt=\"Open In Colab\"/></a>"
      ]
    },
    {
      "cell_type": "code",
      "metadata": {
        "id": "PfL-mKcG5F3Q",
        "colab_type": "code",
        "colab": {
          "base_uri": "https://localhost:8080/",
          "height": 187
        },
        "outputId": "b2478a3c-b1d0-4fc8-db21-87348fb80106"
      },
      "source": [
        "from collections import defaultdict\n",
        "x=defaultdict(list)\n",
        "\n",
        "n,m=map(int,raw_input().split(' '))\n",
        "\n",
        "for i in range(n):\n",
        "    x[raw_input()].append(i+1)\n",
        "\n",
        "l=[]\n",
        "for i in range(m):\n",
        "    l.append(raw_input())\n",
        "\n",
        "\n",
        "for i in l:\n",
        "    print(' '.join(map(str,x[i])) or -1)"
      ],
      "execution_count": 1,
      "outputs": [
        {
          "output_type": "stream",
          "text": [
            "5 2\n",
            "a\n",
            "a\n",
            "b\n",
            "a\n",
            "b\n",
            "a\n",
            "b\n",
            "1 2 4\n",
            "3 5\n"
          ],
          "name": "stdout"
        }
      ]
    }
  ]
}